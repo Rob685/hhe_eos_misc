{
 "cells": [
  {
   "cell_type": "code",
   "execution_count": 1,
   "id": "2f905280",
   "metadata": {},
   "outputs": [],
   "source": [
    "from eos import cms_eos, aqua_eos, ideal_eos\n",
    "import numpy as np\n",
    "import matplotlib.pyplot as plt\n",
    "from scipy.optimize import root\n",
    "from tqdm import tqdm\n",
    "from scipy.interpolate import RegularGridInterpolator as RGI\n",
    "\n",
    "erg_to_kbbar = cms_eos.erg_to_kbbar\n",
    "\n",
    "plt.style.use('default')\n",
    "plt.rc('text', usetex=True)\n",
    "plt.rc('font', family='serif',size=25)\n",
    "plt.rc('axes', linewidth=1.5)\n",
    "plt.rc('axes', labelsize=25)\n",
    "plt.rc('xtick', labelsize=25, direction='in')\n",
    "plt.rc('ytick', labelsize=25, direction='in')\n",
    "\n",
    "plt.rc('xtick.major',size=15,pad=8)\n",
    "plt.rc('xtick.minor',size=7,pad=8)\n",
    "plt.rc('ytick.major',size=15)\n",
    "plt.rc('ytick.minor',size=7)\n",
    "\n",
    "plt.rcParams['axes.grid'] = True"
   ]
  },
  {
   "cell_type": "code",
   "execution_count": 23,
   "id": "8cf99423",
   "metadata": {},
   "outputs": [
    {
     "data": {
      "text/plain": [
       "-3.9999999999999996"
      ]
     },
     "execution_count": 23,
     "metadata": {},
     "output_type": "execute_result"
    }
   ],
   "source": [
    "def get_s_h(lgp, lgt):\n",
    "    if np.isscalar(lgp):\n",
    "        return float(10**cms_eos.get_s_h_rgi(np.array([lgt, lgp]).T))\n",
    "    else:\n",
    "        return 10**cms_eos.get_s_h_rgi(np.array([lgt, lgp]).T)\n",
    "    \n",
    "def get_rho_h(lgp, lgt):\n",
    "    if np.isscalar(lgp):\n",
    "        return float(cms_eos.get_rho_h_rgi(np.array([lgt, lgp]).T))\n",
    "    else:\n",
    "        return cms_eos.get_rho_h_rgi(np.array([lgt, lgp]).T)\n",
    "    \n",
    "def get_logu_h(lgp, lgt):\n",
    "    if np.isscalar(lgp):\n",
    "        return float(cms_eos.get_logu_h_rgi(np.array([lgt, lgp]).T))\n",
    "    else:\n",
    "        return cms_eos.get_logu_h_rgi(np.array([lgt, lgp]).T)\n",
    "    \n",
    "def get_s_id(z):\n",
    "    xz = cms_eos.Y_to_n(z)\n",
    "    xh = 1 - xz\n",
    "    return (cms_eos.guarded_log(xh) + cms_eos.guarded_log(xz))/erg_to_kbbar\n",
    "    \n",
    "def get_s_pt(lgp, lgt, z, sid=True):\n",
    "    s_h = get_s_h(lgp, lgt)\n",
    "    s_z = aqua_eos.get_s_pt_tab(lgp, lgt)\n",
    "    if sid: return s_h*(1-z) + s_z*z + get_s_id(z)\n",
    "    else: return s_h*(1-z) + s_z*z\n",
    "    \n",
    "def get_rho_pt(lgp, lgt, z):\n",
    "    rho_h = 10**get_rho_h(lgp, lgt)\n",
    "    rho_z = 10**aqua_eos.get_rho_pt_tab(lgp, lgt)\n",
    "    \n",
    "    return np.log10(1/((1 - z)/rho_h + z/rho_z))\n",
    "\n",
    "def get_logu_pt(lgp, lgt, z):\n",
    "    u_h = 10**get_logu_h(lgp, lgt)\n",
    "    u_z = 10**aqua_eos.get_u_pt_tab(lgp, lgt)\n",
    "\n",
    "    return np.log10(u_h*(1-z) + u_z*z)\n",
    "\n",
    "###### error functions ######\n",
    "def err_t_sp(_lgt, _s, _lgp, _z):\n",
    "    s_test = get_s_pt(_lgp, _lgt, _z)*erg_to_kbbar\n",
    "    return (s_test/_s) - 1\n",
    "\n",
    "def err_p_rhot(_lgp, _lgrho, _lgt, _z):\n",
    "    rho_test = get_rho_pt(_lgp, _lgt, _z,)\n",
    "    return (rho_test/_lgrho) - 1\n",
    "\n",
    "def err_t_srho(_lgt, _s, _lgrho, _z):\n",
    "    s_test = get_s_rhot_tab(_lgrho, _lgt, _z)*erg_to_kbbar\n",
    "    return (s_test/_s) - 1\n",
    "\n",
    "# def err_t_rhop(_lgt, _lgrho, _lgp, _y, _z, hhe_eos, z_eos):\n",
    "#     logrho_test = get_rho_pt(_lgp, _lgt, _y, _z, hhe_eos, z_eos=z_eos)\n",
    "#     return (logrho_test/_lgrho) - 1\n",
    "\n",
    "###### inversion functions ######\n",
    "\n",
    "TBOUNDS = [2, 7]\n",
    "PBOUNDS = [0, 15]\n",
    "\n",
    "XTOL = 1e-16\n",
    "\n",
    "ideal_xy = ideal_eos.IdealHHeMix(m_he=4)\n",
    "###### S, P ######\n",
    "\n",
    "def get_t_sp(_s, _lgp, _z):\n",
    "    #if alg == 'root':\n",
    "    if np.isscalar(_s):\n",
    "        _s, _lgp, _z = np.array([_s]), np.array([_lgp]), np.array([_z])\n",
    "        guess = ideal_xy.get_t_sp(_s, _lgp, _z)\n",
    "        sol = root(err_t_sp, guess, tol=1e-8, method='hybr', args=(_s, _lgp, _z))\n",
    "        return float(sol.x)\n",
    "    guess = ideal_xy.get_t_sp(_s, _lgp, _z)\n",
    "    sol = root(err_t_sp, guess, tol=XTOL, method='hybr', args=(_s, _lgp, _z))\n",
    "    return sol.x\n",
    "    \n",
    "def get_p_rhot(_lgrho, _lgt, _z):\n",
    "    #if alg == 'root':\n",
    "    if np.isscalar(_lgrho):\n",
    "        _lgrho, _lgt, _z = np.array([_lgrho]), np.array([_lgt]),np.array([_z])\n",
    "        guess = ideal_xy.get_p_rhot(_lgrho, _lgt, _z)\n",
    "        sol = root(err_p_rhot, guess, tol=XTOL, method='hybr', args=(_lgrho, _lgt, _z))\n",
    "        return float(sol.x)\n",
    "    guess = ideal_xy.get_p_rhot(_lgrho, _lgt, _z)\n",
    "    sol = root(err_p_rhot, guess, tol=XTOL, method='hybr', args=(_lgrho, _lgt, _z))\n",
    "    return sol.x\n",
    "\n",
    "def get_s_rhot(_lgrho, _lgt, _z):\n",
    "    logp = get_p_rhot(_lgrho, _lgt, _z)\n",
    "    return get_s_pt(logp, _lgt, _z)\n",
    "    \n",
    "def get_t_srho(_s, _lgrho, _z):\n",
    "    #if alg == 'root':\n",
    "    if np.isscalar(_s):\n",
    "        _s, _lgrho, _z = np.array([_s]), np.array([_lgrho]), np.array([_z])\n",
    "        guess = ideal_xy.get_t_srho(_s, _lgrho, _z)\n",
    "        sol = root(err_t_srho, guess, tol=1e-8, method='hybr', args=(_s, _lgrho, _z))\n",
    "        return float(sol.x)\n",
    "\n",
    "    guess = ideal_xy.get_t_srho(_s, _lgrho, _z)\n",
    "    sol = root(err_t_srho, guess, tol=1e-8, method='hybr', args=(_s, _lgrho, _z))\n",
    "    return sol.x\n",
    "\n",
    "get_s_pt(6, get_t_sp(6, 6, 0.02), 0.02)#*erg_to_kbbar\n",
    "\n",
    "# get_rho_pt(get_p_rhot(-4, 3, 0.02), 3, 0.02)\n",
    "\n",
    "get_rho_pt(get_p_rhot(-4, get_t_srho(6, -4, 0.02), 0.02), get_t_srho(6, -4, 0.02), 0.02)"
   ]
  },
  {
   "cell_type": "code",
   "execution_count": 3,
   "id": "0955ca26",
   "metadata": {},
   "outputs": [
    {
     "name": "stderr",
     "output_type": "stream",
     "text": [
      "100%|██████████| 102/102 [08:20<00:00,  4.91s/it]\n"
     ]
    }
   ],
   "source": [
    "logpgrid = np.arange(5, 14.05, 0.05)\n",
    "sgrid = np.arange(5.0, 10.05, 0.05)\n",
    "ygrid = np.arange(0.05, 1.0, 0.05)\n",
    "\n",
    "logt_res = []\n",
    "logrho_res = []\n",
    "for s in tqdm(sgrid):\n",
    "    s_ = np.full_like(ygrid, s)\n",
    "    logt_s = []\n",
    "    logrho_s = []\n",
    "    for p in logpgrid:\n",
    "        logp = np.full_like(ygrid, p)\n",
    "        logt = get_t_sp(s_, logp, ygrid)\n",
    "        logrho = get_rho_pt(logp, logt, ygrid)\n",
    "\n",
    "        logrho_s.append(logrho)\n",
    "        logt_s.append(logt)\n",
    "\n",
    "    logrho_res.append(logrho_s)\n",
    "    logt_res.append(logt_s)"
   ]
  },
  {
   "cell_type": "code",
   "execution_count": 7,
   "id": "9d135b91",
   "metadata": {},
   "outputs": [],
   "source": [
    "zvals_sp = ygrid\n",
    "svals_sp = sgrid\n",
    "logpvals_sp = logpgrid\n",
    "\n",
    "\n",
    "get_rho_rgi_sp = RGI((svals_sp, logpvals_sp, zvals_sp), logrho_res, method='linear', \\\n",
    "            bounds_error=False, fill_value=None)\n",
    "get_t_rgi_sp = RGI((svals_sp, logpvals_sp, zvals_sp), logt_res, method='linear', \\\n",
    "            bounds_error=False, fill_value=None)\n",
    "\n",
    "def get_rho_sp_tab(s, p, z):\n",
    "    if np.isscalar(s):\n",
    "        return float(get_rho_rgi_sp(np.array([s, p, z]).T))\n",
    "    else:\n",
    "        return get_rho_rgi_sp(np.array([s, p, z]).T)\n",
    "\n",
    "def get_t_sp_tab(s, p, z):\n",
    "    if np.isscalar(s):\n",
    "        return float(get_t_rgi_sp(np.array([s, p, z]).T))\n",
    "    else:\n",
    "        return get_t_rgi_sp(np.array([s, p, z]).T)"
   ]
  },
  {
   "cell_type": "code",
   "execution_count": 8,
   "id": "56155294",
   "metadata": {},
   "outputs": [],
   "source": [
    "np.save('eos/h_aqua/sp_base.npy', [logrho_res, logt_res])"
   ]
  },
  {
   "cell_type": "code",
   "execution_count": 14,
   "id": "27410bb0",
   "metadata": {},
   "outputs": [
    {
     "name": "stderr",
     "output_type": "stream",
     "text": [
      "100%|██████████| 100/100 [01:07<00:00,  1.48it/s]\n"
     ]
    }
   ],
   "source": [
    "logrhovals_rhot = np.linspace(-5, 1.5, 100)\n",
    "logtvals_rhot = np.arange(2.1, 5.1, 0.05)\n",
    "yvals_rhot = np.arange(0.05, 1.0, 0.05)\n",
    "\n",
    "logp_res = []\n",
    "s_res = []\n",
    "for rho in tqdm(logrhovals_rhot):\n",
    "    rho_ = np.full_like(yvals_rhot, rho)\n",
    "    logp_t = []\n",
    "    s_t = []\n",
    "    for t in logtvals_rhot:\n",
    "        logt = np.full_like(yvals_rhot, t)\n",
    "\n",
    "        logp = get_p_rhot(rho_, logt, yvals_rhot)\n",
    "        s = get_s_pt(logp, logt, yvals_rhot)\n",
    "\n",
    "        logp_t.append(logp)\n",
    "        s_t.append(s)\n",
    "\n",
    "    logp_res.append(logp_t)\n",
    "    s_res.append(s_t)"
   ]
  },
  {
   "cell_type": "code",
   "execution_count": 15,
   "id": "15d49f3c",
   "metadata": {},
   "outputs": [],
   "source": [
    "np.save('eos/h_aqua/rhot_base.npy', [logp_res, s_res])"
   ]
  },
  {
   "cell_type": "code",
   "execution_count": 24,
   "id": "d36ed9ee",
   "metadata": {},
   "outputs": [],
   "source": [
    "get_p_rgi_rhot = RGI((logrhovals_rhot, logtvals_rhot, yvals_rhot), logp_res, method='linear', \\\n",
    "            bounds_error=False, fill_value=None)\n",
    "get_s_rgi_rhot = RGI((logrhovals_rhot, logtvals_rhot, yvals_rhot), s_res, method='linear', \\\n",
    "            bounds_error=False, fill_value=None)\n",
    "\n",
    "def get_p_rhot_tab(rho, t, y, z=0.0):\n",
    "    if np.isscalar(rho):\n",
    "        return float(get_p_rgi_rhot(np.array([rho, t, y]).T))\n",
    "    else:\n",
    "        return get_p_rgi_rhot(np.array([rho, t, y]).T)\n",
    "\n",
    "def get_s_rhot_tab(rho, t, y, z=0.0):\n",
    "    if np.isscalar(rho):\n",
    "        return float(get_s_rgi_rhot(np.array([rho, t, y]).T))\n",
    "    else:\n",
    "        return get_s_rgi_rhot(np.array([rho, t, y]).T)"
   ]
  },
  {
   "cell_type": "code",
   "execution_count": 26,
   "id": "9c2a3a41",
   "metadata": {},
   "outputs": [
    {
     "name": "stderr",
     "output_type": "stream",
     "text": [
      "100%|██████████| 82/82 [15:30<00:00, 11.35s/it]\n"
     ]
    }
   ],
   "source": [
    "svals_srho = np.arange(5.0, 9.05, 0.05)\n",
    "logrhovals_srho = np.linspace(-5, 2.0, 100)\n",
    "yvals_srho = np.arange(0.05, 1.0, 0.05)\n",
    "\n",
    "logt_res_srho = []\n",
    "logp_res_srho = []\n",
    "\n",
    "for s in tqdm(svals_srho):\n",
    "    s_ = np.full_like(yvals_srho, s)\n",
    "    logt_rho = []\n",
    "    logp_rho = []\n",
    "    for rho in logrhovals_srho:\n",
    "        logrho = np.full_like(yvals_srho, rho)\n",
    "        logt = get_t_srho(s_, logrho, yvals_srho)\n",
    "        logp = get_p_rhot_tab(logrho, logt, yvals_srho)\n",
    "\n",
    "        logt_rho.append(logt)\n",
    "        logp_rho.append(logp)\n",
    "\n",
    "    logt_res_srho.append(logt_rho)\n",
    "    logp_res_srho.append(logp_rho)"
   ]
  },
  {
   "cell_type": "code",
   "execution_count": 27,
   "id": "4baaa615",
   "metadata": {},
   "outputs": [],
   "source": [
    "np.save('eos/h_aqua/srho_base.npy', [logp_res_srho, logt_res_srho])"
   ]
  },
  {
   "cell_type": "markdown",
   "id": "4c0c3de1",
   "metadata": {},
   "source": [
    "# Testing file"
   ]
  },
  {
   "cell_type": "code",
   "execution_count": 3,
   "id": "6231bcce",
   "metadata": {},
   "outputs": [],
   "source": [
    "from eos import h_aqua_eos"
   ]
  },
  {
   "cell_type": "code",
   "execution_count": 5,
   "id": "26f6bb17",
   "metadata": {},
   "outputs": [
    {
     "data": {
      "image/png": "[encoded data removed]",
      "text/plain": [
       "<Figure size 640x480 with 1 Axes>"
      ]
     },
     "metadata": {},
     "output_type": "display_data"
    }
   ],
   "source": [
    "sgrid = [5.5, 6, 7, 8, 9]\n",
    "logpgrid = np.linspace(5, 14, 100)\n",
    "zval = np.full_like(logpgrid, 0.75) # Z = 0.25\n",
    "\n",
    "for s in sgrid:\n",
    "    sval = np.full_like(logpgrid, s)\n",
    "    rho, t = h_aqua_eos.get_rhot_sp_tab(sval, logpgrid, zval)\n",
    "    \n",
    "    plt.plot(logpgrid, t)"
   ]
  },
  {
   "cell_type": "code",
   "execution_count": null,
   "id": "38147133",
   "metadata": {},
   "outputs": [],
   "source": []
  }
 ],
 "metadata": {
  "kernelspec": {
   "display_name": "Python 3.8 [anaconda3/2020.7]",
   "language": "python",
   "name": "sys_python38"
  },
  "language_info": {
   "codemirror_mode": {
    "name": "ipython",
    "version": 3
   },
   "file_extension": ".py",
   "mimetype": "text/x-python",
   "name": "python",
   "nbconvert_exporter": "python",
   "pygments_lexer": "ipython3",
   "version": "3.8.3"
  }
 },
 "nbformat": 4,
 "nbformat_minor": 5
}
